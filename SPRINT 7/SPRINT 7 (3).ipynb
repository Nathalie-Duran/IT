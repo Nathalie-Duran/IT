{
 "cells": [
  {
   "cell_type": "markdown",
   "id": "4b3dc7cf-8e76-4527-8096-1f118ffda9ef",
   "metadata": {},
   "source": [
    "# Sprint 7. Estructures de dades i de control"
   ]
  },
  {
   "cell_type": "markdown",
   "id": "891c7cf8-e68d-47b2-bd7e-a099da41b7f1",
   "metadata": {},
   "source": [
    "## Nivell 1"
   ]
  },
  {
   "cell_type": "markdown",
   "id": "430d254b-0e6a-4302-bcba-dc6b15439f7f",
   "metadata": {},
   "source": [
    "### Exercici 1. Calculadora IMC"
   ]
  },
  {
   "cell_type": "markdown",
   "id": "b398aee8-f859-4bae-a1ca-2422b5f76f72",
   "metadata": {},
   "source": [
    "- Escriu una funció que calculi l'IMC ingressat per l'usuari/ària, és a dir, qui ho executi haurà d'ingressar aquestes dades.\n",
    "- La funció ha de classificar el resultat en les seves respectives categories\n",
    "    * Bajo peso: menos de 18,5.\n",
    "    * Peso normal: 18,5-24,9.\n",
    "    * Sobrepeso: 25-29,9.\n",
    "    * Obesidad: más de 30."
   ]
  },
  {
   "cell_type": "code",
   "execution_count": 3,
   "id": "9a8877d3-65b7-4870-b6eb-2f0a9f970799",
   "metadata": {},
   "outputs": [
    {
     "name": "stdin",
     "output_type": "stream",
     "text": [
      "Introduce tu peso en kg:  65\n",
      "Introduce tu altura en cm:  175\n"
     ]
    },
    {
     "name": "stdout",
     "output_type": "stream",
     "text": [
      "Tu IMC es 21.22 kg/m² y estás en la categoría: PESO NORMAL\n"
     ]
    }
   ],
   "source": [
    "def calcular_imc():\n",
    "    peso = float(input(\"Introduce tu peso en kg: \").replace(\",\", \".\"))\n",
    "    altura = float(input(\"Introduce tu altura en cm: \").replace(\",\", \".\")) / 100  # Convertir cm a m\n",
    "    \n",
    "    if peso <= 0 or altura <= 0:\n",
    "        print(\"Error: Peso y altura deben ser valores positivos.\")\n",
    "        return\n",
    "    \n",
    "    imc = round(peso / (altura ** 2), 2)\n",
    "    categoria = (\"PESO BAJO\" if imc < 18.5 else\n",
    "                 \"PESO NORMAL\" if imc < 25 else\n",
    "                 \"SOBREPESO\" if imc < 30 else\n",
    "                 \"OBESIDAD\")\n",
    "    \n",
    "    print(f\"Tu IMC es {imc} kg/m² y estás en la categoría: {categoria}\")\n",
    "\n",
    "calcular_imc()\n"
   ]
  },
  {
   "cell_type": "markdown",
   "id": "4fae7ee7-0313-4b07-a378-92ef7b3ba684",
   "metadata": {},
   "source": [
    "### Exercici 2. Convertidor de temperatures"
   ]
  },
  {
   "cell_type": "markdown",
   "id": "ce9fc2c0-2193-426f-8ed8-b77b71f2c86f",
   "metadata": {},
   "source": [
    "- Existeixen diverses unitats de temperatura utilitzades en diferents contextos i regions. Les més comunes són Celsius (°C), Fahrenheit (°F) i Kelvin (K). També existeixen altres unitats com Rankine (°Ra) i Réaumur (°Re). Selecciona almenys 2 conversors, de tal manera que en introduir una temperatura retorni, com a mínim, dues conversions."
   ]
  },
  {
   "cell_type": "code",
   "execution_count": 52,
   "id": "40072f3f-add3-4ec0-96d4-5719f8352e9b",
   "metadata": {},
   "outputs": [
    {
     "name": "stdout",
     "output_type": "stream",
     "text": [
      "Bienvenido al Conversor de Temperaturas\n"
     ]
    },
    {
     "name": "stdin",
     "output_type": "stream",
     "text": [
      "Elige la unidad de temperatura que introducirás para calcular su conversión en el resto de unidades:\n",
      "1. Celsius\n",
      "2. Fahrenheit\n",
      "3. Kelvin\n",
      ">  1\n",
      "Introduce la temperatura:  25\n"
     ]
    },
    {
     "name": "stdout",
     "output_type": "stream",
     "text": [
      "25.0°C equivale a 77.00°F y 298.15K\n"
     ]
    }
   ],
   "source": [
    "def convertir_temperatura(unidad, temperatura):\n",
    "    \"\"\"Convierte la temperatura a Celsius, Fahrenheit y Kelvin según la unidad ingresada.\"\"\"\n",
    "    if unidad == 1:  # Celsius\n",
    "        print(f\"{temperatura}°C equivale a {(temperatura * 9/5) + 32:.2f}°F y {temperatura + 273.15:.2f}K\")\n",
    "    elif unidad == 2:  # Fahrenheit\n",
    "        print(f\"{temperatura}°F equivale a {(temperatura - 32) * 5/9:.2f}°C y {(temperatura + 459.67) * 5/9:.2f}K\")\n",
    "    elif unidad == 3:  # Kelvin\n",
    "        print(f\"{temperatura}K equivale a {temperatura - 273.15:.2f}°C y {(temperatura - 273.15) * 9/5 + 32:.2f}°F\")\n",
    "\n",
    "def obtener_unidad():\n",
    "    \"\"\"Solicita al usuario elegir una unidad de temperatura.\"\"\"\n",
    "    while True:\n",
    "        try:\n",
    "            unidad = int(input(\"Elige 1la unidad de temperatura que introducirás para calcular su conversión en el resto de unidades:\\n1. Celsius\\n2. Fahrenheit\\n3. Kelvin\\n> \"))\n",
    "            if unidad in [1, 2, 3]:\n",
    "                return unidad\n",
    "            print(\"Opción inválida. Introduce 1, 2 o 3.\")\n",
    "        except ValueError:\n",
    "            print(\"Entrada no válida. Introduce un número.\")\n",
    "\n",
    "def main():\n",
    "    print(\"Bienvenido al Conversor de Temperaturas\")\n",
    "    unidad = obtener_unidad()\n",
    "    \n",
    "    while True:\n",
    "        try:\n",
    "            temperatura = float(input(\"Introduce la temperatura: \").replace(\",\", \".\"))\n",
    "            convertir_temperatura(unidad, temperatura)\n",
    "            break\n",
    "        except ValueError:\n",
    "            print(\"Entrada no válida. Introduce un número válido.\")\n",
    "\n",
    "main()"
   ]
  },
  {
   "cell_type": "markdown",
   "id": "cdd703dc-95fc-40a2-b087-c56ce24c5941",
   "metadata": {},
   "source": [
    "### Exercici 3. Comptador de paraules d'un text"
   ]
  },
  {
   "cell_type": "markdown",
   "id": "be7a3209-5f6e-4be3-a4ca-617dbd0e95db",
   "metadata": {},
   "source": [
    "- Escriu una funció que donat un text, mostri les vegades que apareix cada paraula."
   ]
  },
  {
   "cell_type": "code",
   "execution_count": 54,
   "id": "b50e2a9c-17dc-4a5c-9738-774924b51178",
   "metadata": {},
   "outputs": [
    {
     "name": "stdin",
     "output_type": "stream",
     "text": [
      "Introduce un texto:  Buenos días Martha\n"
     ]
    },
    {
     "name": "stdout",
     "output_type": "stream",
     "text": [
      "Frecuencia de palabras:\n",
      "buenos: 1\n",
      "días: 1\n",
      "martha: 1\n"
     ]
    }
   ],
   "source": [
    "import string\n",
    "\n",
    "def remove_punctuation(text):\n",
    "    \"\"\"Elimina signos de puntuación del texto.\"\"\"\n",
    "    return text.translate(str.maketrans('', '', string.punctuation + \"¡¿\"))\n",
    "\n",
    "def count_words(text):\n",
    "    \"\"\"Cuenta la frecuencia de cada palabra en un texto.\"\"\"\n",
    "    words = text.lower().split()\n",
    "    word_count = {}\n",
    "    for word in words:\n",
    "        word_count[word] = word_count.get(word, 0) + 1\n",
    "    return word_count\n",
    "\n",
    "def main():\n",
    "    text = input(\"Introduce un texto: \")\n",
    "    clean_text = remove_punctuation(text)\n",
    "    word_counts = count_words(clean_text)\n",
    "    \n",
    "    print(\"Frecuencia de palabras:\")\n",
    "    for word, count in word_counts.items():\n",
    "        print(f\"{word}: {count}\")\n",
    "\n",
    "main()"
   ]
  },
  {
   "cell_type": "markdown",
   "id": "29bcf194-75fb-4e52-8593-e5912ca79de7",
   "metadata": {},
   "source": [
    "### Exercici 4. Diccionari invers"
   ]
  },
  {
   "cell_type": "markdown",
   "id": "6e75c129-efe6-4a59-a392-919a6bdb88df",
   "metadata": {},
   "source": [
    "- Resulta que el client té una enquesta molt antiga que s'emmagatzema en un diccionari i els resultats els necessita al revés, és a dir, intercanviats les claus i els valors. Els valors i claus en el diccionari original són únics; si aquest no és el cas, la funció hauria d'imprimir un missatge d'advertiment."
   ]
  },
  {
   "cell_type": "code",
   "execution_count": 1,
   "id": "cab5f37f-c55b-4a6b-bfd9-697363e0bf63",
   "metadata": {},
   "outputs": [
    {
     "name": "stdout",
     "output_type": "stream",
     "text": [
      "Diccionario original: {'a': '1', 'b': '2', 'c': '3'}\n",
      "Diccionario invertido: {'1': 'a', '2': 'b', '3': 'c'}\n"
     ]
    }
   ],
   "source": [
    "original_dict = {\n",
    "    'a': '1',\n",
    "    'b': '2',\n",
    "    'c': '3'\n",
    "}\n",
    "\n",
    "def invert_dict(d):\n",
    "    \"\"\"Invierte un diccionario intercambiando claves y valores, evitando duplicados.\"\"\"\n",
    "    inverted = {}\n",
    "    for k, v in d.items():\n",
    "        if v in inverted:\n",
    "            print(f\"⚠️ ATENCIÓN: El valor '{v}' ya existe. No se añadirá nuevamente.\")\n",
    "        else:\n",
    "            inverted[v] = k\n",
    "    return inverted\n",
    "\n",
    "# Mostrar los resultados\n",
    "inverse_dict = invert_dict(original_dict)\n",
    "print(\"Diccionario original:\", original_dict)\n",
    "print(\"Diccionario invertido:\", inverse_dict)\n"
   ]
  },
  {
   "cell_type": "code",
   "execution_count": 3,
   "id": "eaa3d9a8-ca39-4c81-bda8-586d96274b5f",
   "metadata": {},
   "outputs": [
    {
     "name": "stdout",
     "output_type": "stream",
     "text": [
      "⚠️ ATENCIÓN: El valor 'banana' ya existe. No se añadirá nuevamente.\n",
      "Diccionario original: {'x': 'apple', 'y': 'banana', 'z': 'banana'}\n",
      "Diccionario invertido: {'apple': 'x', 'banana': 'y'}\n"
     ]
    }
   ],
   "source": [
    "original_dict = {\n",
    "    'x': 'apple',\n",
    "    'y': 'banana',\n",
    "    'z': 'banana'\n",
    "}\n",
    "\n",
    "def invert_dict(d):\n",
    "    \"\"\"Invierte un diccionario intercambiando claves y valores, evitando duplicados.\"\"\"\n",
    "    inverted = {}\n",
    "    for k, v in d.items():\n",
    "        if v in inverted:\n",
    "            print(f\"⚠️ ATENCIÓN: El valor '{v}' ya existe. No se añadirá nuevamente.\")\n",
    "        else:\n",
    "            inverted[v] = k\n",
    "    return inverted\n",
    "\n",
    "# Mostrar los resultados\n",
    "inverse_dict = invert_dict(original_dict)\n",
    "print(\"Diccionario original:\", original_dict)\n",
    "print(\"Diccionario invertido:\", inverse_dict)\n"
   ]
  }
 ],
 "metadata": {
  "kernelspec": {
   "display_name": "Python 3 (ipykernel)",
   "language": "python",
   "name": "python3"
  },
  "language_info": {
   "codemirror_mode": {
    "name": "ipython",
    "version": 3
   },
   "file_extension": ".py",
   "mimetype": "text/x-python",
   "name": "python",
   "nbconvert_exporter": "python",
   "pygments_lexer": "ipython3",
   "version": "3.12.7"
  }
 },
 "nbformat": 4,
 "nbformat_minor": 5
}
